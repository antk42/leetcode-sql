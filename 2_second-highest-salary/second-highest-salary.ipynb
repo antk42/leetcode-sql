{
 "cells": [
  {
   "cell_type": "markdown",
   "id": "ba74ca91-13f5-4b02-8e46-339ed5c6853c",
   "metadata": {},
   "source": [
    "https://leetcode.com/problems/second-highest-salary/"
   ]
  },
  {
   "cell_type": "code",
   "execution_count": 1,
   "id": "219be3f2-c9dc-4cd0-b2c2-211544590b2d",
   "metadata": {},
   "outputs": [],
   "source": [
    "import pandas as pd\n",
    "import numpy as np \n",
    "import sqlite3"
   ]
  },
  {
   "cell_type": "code",
   "execution_count": 2,
   "id": "690cbbe4-5074-4367-91cd-9db1cda5b162",
   "metadata": {},
   "outputs": [],
   "source": [
    "sql = '''\n",
    "Create table If Not Exists Employee (id int, salary int);\n",
    "---Truncate table Employee\n",
    "insert into Employee (id, salary) values ('1', '100');\n",
    "insert into Employee (id, salary) values ('2', '200');\n",
    "insert into Employee (id, salary) values ('3', '300');\n",
    "insert into Employee (id, salary) values ('4', '300');\n",
    "'''"
   ]
  },
  {
   "cell_type": "code",
   "execution_count": 3,
   "id": "a8bea510-cbe7-407c-80fd-9436bf8df58d",
   "metadata": {},
   "outputs": [],
   "source": [
    "def select(sql):\n",
    "    return pd.read_sql(sql, con)"
   ]
  },
  {
   "cell_type": "code",
   "execution_count": 4,
   "id": "049b8659-5ee7-4bc5-a2ba-06bb631c8b03",
   "metadata": {},
   "outputs": [],
   "source": [
    "con = sqlite3.connect('db')"
   ]
  },
  {
   "cell_type": "code",
   "execution_count": 5,
   "id": "dfdbee68-0d39-4635-a062-bfabe7260522",
   "metadata": {},
   "outputs": [],
   "source": [
    "cur = con.cursor()"
   ]
  },
  {
   "cell_type": "code",
   "execution_count": 6,
   "id": "0f9dfb30-a174-4094-8a4f-a30e70192ce7",
   "metadata": {},
   "outputs": [
    {
     "data": {
      "text/plain": [
       "<sqlite3.Cursor at 0x7f5ef6a2c7c0>"
      ]
     },
     "execution_count": 6,
     "metadata": {},
     "output_type": "execute_result"
    }
   ],
   "source": [
    "cur.executescript(sql)"
   ]
  },
  {
   "cell_type": "code",
   "execution_count": 11,
   "id": "5dd8209b-615a-4788-93f7-468b655b807f",
   "metadata": {},
   "outputs": [],
   "source": [
    "sql = '''\n",
    "SELECT *\n",
    "FROM Employee AS t\n",
    "'''"
   ]
  },
  {
   "cell_type": "code",
   "execution_count": 12,
   "id": "07ab54ca-5b3c-4200-9cb9-136a0779f24b",
   "metadata": {},
   "outputs": [
    {
     "data": {
      "text/html": [
       "<div>\n",
       "<style scoped>\n",
       "    .dataframe tbody tr th:only-of-type {\n",
       "        vertical-align: middle;\n",
       "    }\n",
       "\n",
       "    .dataframe tbody tr th {\n",
       "        vertical-align: top;\n",
       "    }\n",
       "\n",
       "    .dataframe thead th {\n",
       "        text-align: right;\n",
       "    }\n",
       "</style>\n",
       "<table border=\"1\" class=\"dataframe\">\n",
       "  <thead>\n",
       "    <tr style=\"text-align: right;\">\n",
       "      <th></th>\n",
       "      <th>id</th>\n",
       "      <th>salary</th>\n",
       "    </tr>\n",
       "  </thead>\n",
       "  <tbody>\n",
       "    <tr>\n",
       "      <th>0</th>\n",
       "      <td>1</td>\n",
       "      <td>100</td>\n",
       "    </tr>\n",
       "    <tr>\n",
       "      <th>1</th>\n",
       "      <td>2</td>\n",
       "      <td>200</td>\n",
       "    </tr>\n",
       "    <tr>\n",
       "      <th>2</th>\n",
       "      <td>3</td>\n",
       "      <td>300</td>\n",
       "    </tr>\n",
       "    <tr>\n",
       "      <th>3</th>\n",
       "      <td>4</td>\n",
       "      <td>300</td>\n",
       "    </tr>\n",
       "  </tbody>\n",
       "</table>\n",
       "</div>"
      ],
      "text/plain": [
       "   id  salary\n",
       "0   1     100\n",
       "1   2     200\n",
       "2   3     300\n",
       "3   4     300"
      ]
     },
     "execution_count": 12,
     "metadata": {},
     "output_type": "execute_result"
    }
   ],
   "source": [
    "select(sql)"
   ]
  },
  {
   "cell_type": "code",
   "execution_count": 33,
   "id": "cb5969ba-0522-4516-9cbe-219b901d9e65",
   "metadata": {},
   "outputs": [],
   "source": [
    "sql = '''\n",
    "SELECT max(t.salary) AS second_highest_salary\n",
    "FROM\n",
    "    (SELECT t.*,\n",
    "        dense_rank() OVER (ORDER BY t.salary DESC) AS rnk\n",
    "        FROM Employee AS t) AS t\n",
    "    \n",
    "WHERE t.rnk = 2\n",
    "'''"
   ]
  },
  {
   "cell_type": "code",
   "execution_count": 34,
   "id": "8ea59dc8-5471-42a2-a835-7e18e59abaf7",
   "metadata": {},
   "outputs": [
    {
     "data": {
      "text/html": [
       "<div>\n",
       "<style scoped>\n",
       "    .dataframe tbody tr th:only-of-type {\n",
       "        vertical-align: middle;\n",
       "    }\n",
       "\n",
       "    .dataframe tbody tr th {\n",
       "        vertical-align: top;\n",
       "    }\n",
       "\n",
       "    .dataframe thead th {\n",
       "        text-align: right;\n",
       "    }\n",
       "</style>\n",
       "<table border=\"1\" class=\"dataframe\">\n",
       "  <thead>\n",
       "    <tr style=\"text-align: right;\">\n",
       "      <th></th>\n",
       "      <th>second_highest_salary</th>\n",
       "    </tr>\n",
       "  </thead>\n",
       "  <tbody>\n",
       "    <tr>\n",
       "      <th>0</th>\n",
       "      <td>200</td>\n",
       "    </tr>\n",
       "  </tbody>\n",
       "</table>\n",
       "</div>"
      ],
      "text/plain": [
       "   second_highest_salary\n",
       "0                    200"
      ]
     },
     "execution_count": 34,
     "metadata": {},
     "output_type": "execute_result"
    }
   ],
   "source": [
    "select(sql)"
   ]
  },
  {
   "cell_type": "code",
   "execution_count": 48,
   "id": "240df821-732d-4992-848c-286e260cfc1f",
   "metadata": {},
   "outputs": [],
   "source": [
    "sql = '''\n",
    "SELECT max(t.salary) as second_highest_salary\n",
    "FROM Employee AS t\n",
    "WHERE t.salary NOT IN(\n",
    "    SELECT max(t.salary)\n",
    "    FROM Employee AS t\n",
    "    )\n",
    "'''"
   ]
  },
  {
   "cell_type": "code",
   "execution_count": 49,
   "id": "6bfccfbe-fabc-4da0-9298-66fe9efba387",
   "metadata": {},
   "outputs": [
    {
     "data": {
      "text/html": [
       "<div>\n",
       "<style scoped>\n",
       "    .dataframe tbody tr th:only-of-type {\n",
       "        vertical-align: middle;\n",
       "    }\n",
       "\n",
       "    .dataframe tbody tr th {\n",
       "        vertical-align: top;\n",
       "    }\n",
       "\n",
       "    .dataframe thead th {\n",
       "        text-align: right;\n",
       "    }\n",
       "</style>\n",
       "<table border=\"1\" class=\"dataframe\">\n",
       "  <thead>\n",
       "    <tr style=\"text-align: right;\">\n",
       "      <th></th>\n",
       "      <th>second_highest_salary</th>\n",
       "    </tr>\n",
       "  </thead>\n",
       "  <tbody>\n",
       "    <tr>\n",
       "      <th>0</th>\n",
       "      <td>200</td>\n",
       "    </tr>\n",
       "  </tbody>\n",
       "</table>\n",
       "</div>"
      ],
      "text/plain": [
       "   second_highest_salary\n",
       "0                    200"
      ]
     },
     "execution_count": 49,
     "metadata": {},
     "output_type": "execute_result"
    }
   ],
   "source": [
    "select(sql)"
   ]
  },
  {
   "cell_type": "code",
   "execution_count": null,
   "id": "8aae826e-acd7-4c8b-a39b-bc14cc21e6aa",
   "metadata": {},
   "outputs": [],
   "source": []
  },
  {
   "cell_type": "code",
   "execution_count": null,
   "id": "c7c8ccdb-4766-42f5-ba4d-daa3038d66a1",
   "metadata": {},
   "outputs": [],
   "source": []
  }
 ],
 "metadata": {
  "kernelspec": {
   "display_name": "Python 3 (ipykernel)",
   "language": "python",
   "name": "python3"
  },
  "language_info": {
   "codemirror_mode": {
    "name": "ipython",
    "version": 3
   },
   "file_extension": ".py",
   "mimetype": "text/x-python",
   "name": "python",
   "nbconvert_exporter": "python",
   "pygments_lexer": "ipython3",
   "version": "3.10.9"
  }
 },
 "nbformat": 4,
 "nbformat_minor": 5
}
